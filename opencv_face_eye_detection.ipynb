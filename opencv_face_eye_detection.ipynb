{
  "nbformat": 4,
  "nbformat_minor": 0,
  "metadata": {
    "colab": {
      "name": "opencv_face_eye_detection.ipynb",
      "version": "0.3.2",
      "provenance": [],
      "collapsed_sections": [],
      "toc_visible": true,
      "include_colab_link": true
    },
    "kernelspec": {
      "name": "python3",
      "display_name": "Python 3"
    },
    "accelerator": "GPU"
  },
  "cells": [
    {
      "cell_type": "markdown",
      "metadata": {
        "id": "view-in-github",
        "colab_type": "text"
      },
      "source": [
        "[View in Colaboratory](https://colab.research.google.com/github/gokhantunc666/opencv_face_eye_detection/blob/master/opencv_face_eye_detection.ipynb)"
      ]
    },
    {
      "metadata": {
        "id": "qn2DdQvn3VW5",
        "colab_type": "code",
        "colab": {}
      },
      "cell_type": "code",
      "source": [
        "!pip install opencv-python\n",
        "!git clone https://github.com/opencv/opencv.git\n"
      ],
      "execution_count": 0,
      "outputs": []
    },
    {
      "metadata": {
        "id": "WrxVKhnrcuW0",
        "colab_type": "code",
        "colab": {}
      },
      "cell_type": "code",
      "source": [
        "import cv2"
      ],
      "execution_count": 0,
      "outputs": []
    },
    {
      "metadata": {
        "id": "Q8j_Do_nHgVN",
        "colab_type": "code",
        "colab": {}
      },
      "cell_type": "code",
      "source": [
        "face_cascade = cv2.CascadeClassifier(\n",
        "    'opencv/data/haarcascades/haarcascade_frontalface_default.xml')\n",
        "eye_cascade = cv2.CascadeClassifier(\n",
        "    'opencv/data/haarcascades/haarcascade_eye.xml')\n",
        "\n",
        "cap = cv2.VideoCapture(0) # 0 for default camera \n",
        "\n",
        "while True:\n",
        "    _, frame = cap.read() # read frame from camera\n",
        "    gray = cv2.cvtColor(frame, cv2.COLOR_BGR2GRAY) # convert color frame to gray\n",
        "\n",
        "    faces = face_cascade.detectMultiScale(gray, 1.3, 5) # load cascade with default settings\n",
        "    for (x, y, w, h) in faces:  # x , y , width, height\n",
        "        cv2.rectangle(frame, (x, y), (x + w, y + h), (255, 0, 0), 2) # create recrangle\n",
        "        roi_gray = gray[y:y + h, x:x + w] # gray frame\n",
        "        roi_color = frame[y:y + h, x:x + w] # color frame\n",
        "        eyes = eye_cascade.detectMultiScale(roi_gray) # load cascade with default settings\n",
        "        for (ex, ey, ew, eh) in eyes:\n",
        "            cv2.rectangle(roi_color, (ex, ey), (ex + ew, ey + eh), (0, 255, 0), 2) # create recrangles\n",
        "\n",
        "    cv2.imshow('frame', frame)\n",
        "    k = cv2.waitKey(30) & 0xff\n",
        "    if k == 27:\n",
        "        break\n",
        "\n",
        "\n",
        "cap.release()\n",
        "cv2.destroyAllWindows()"
      ],
      "execution_count": 0,
      "outputs": []
    }
  ]
}